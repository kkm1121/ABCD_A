{
  "nbformat": 4,
  "nbformat_minor": 0,
  "metadata": {
    "colab": {
      "provenance": [],
      "authorship_tag": "ABX9TyMNgoNtnxI3VZUyQ9X3nHX2",
      "include_colab_link": true
    },
    "kernelspec": {
      "name": "python3",
      "display_name": "Python 3"
    },
    "language_info": {
      "name": "python"
    }
  },
  "cells": [
    {
      "cell_type": "markdown",
      "metadata": {
        "id": "view-in-github",
        "colab_type": "text"
      },
      "source": [
        "<a href=\"https://colab.research.google.com/github/kkm1121/ABCD_A/blob/20250314/%ED%8C%8C%EC%9D%B4%EC%8D%AC300%EC%A0%9C_1_10_%EB%AC%B8%EC%A0%9C%ED%92%80%EC%9D%B4_2025_03_14.ipynb\" target=\"_parent\"><img src=\"https://colab.research.google.com/assets/colab-badge.svg\" alt=\"Open In Colab\"/></a>"
      ]
    },
    {
      "cell_type": "code",
      "execution_count": 1,
      "metadata": {
        "colab": {
          "base_uri": "https://localhost:8080/"
        },
        "id": "ppWz3r8qegRH",
        "outputId": "837198f4-a61b-4cc3-f960-9c68d235fbda"
      },
      "outputs": [
        {
          "output_type": "stream",
          "name": "stdout",
          "text": [
            "Hello World\n"
          ]
        }
      ],
      "source": [
        "print('Hello World')"
      ]
    },
    {
      "cell_type": "code",
      "source": [
        "print(\"Marry's cosmetics\")"
      ],
      "metadata": {
        "colab": {
          "base_uri": "https://localhost:8080/"
        },
        "id": "xgnT-EhlfOw-",
        "outputId": "d696a413-1e8e-4ad5-ce0b-d1b2f3a853d6"
      },
      "execution_count": 2,
      "outputs": [
        {
          "output_type": "stream",
          "name": "stdout",
          "text": [
            "Marry's cosmetics\n"
          ]
        }
      ]
    },
    {
      "cell_type": "code",
      "source": [
        "print('신씨가 소리질렀다. \"도둑이야\"')"
      ],
      "metadata": {
        "colab": {
          "base_uri": "https://localhost:8080/"
        },
        "id": "OH2U8SWtfO5L",
        "outputId": "787fce70-d9ed-420d-d1df-d619df7d8943"
      },
      "execution_count": 5,
      "outputs": [
        {
          "output_type": "stream",
          "name": "stdout",
          "text": [
            "신씨가 소리질렀다. \"도둑이야\"\n"
          ]
        }
      ]
    },
    {
      "cell_type": "code",
      "source": [
        "print('\"C:\\windows\"')"
      ],
      "metadata": {
        "colab": {
          "base_uri": "https://localhost:8080/"
        },
        "id": "2yl_yTvhfPL4",
        "outputId": "8d8e4000-4821-4fd9-80e2-b726b6603853"
      },
      "execution_count": 7,
      "outputs": [
        {
          "output_type": "stream",
          "name": "stdout",
          "text": [
            "\"C:\\windows\"\n"
          ]
        }
      ]
    },
    {
      "cell_type": "code",
      "source": [
        "print(\"안녕하세요.\\n 만나서\\t\\t반갑습니다.\")"
      ],
      "metadata": {
        "colab": {
          "base_uri": "https://localhost:8080/"
        },
        "id": "wluCuTSrfyUI",
        "outputId": "21069b95-f108-4e61-cf2c-83153a1e2d84"
      },
      "execution_count": 8,
      "outputs": [
        {
          "output_type": "stream",
          "name": "stdout",
          "text": [
            "안녕하세요.\n",
            " 만나서\t\t반갑습니다.\n"
          ]
        }
      ]
    },
    {
      "cell_type": "code",
      "source": [
        "print(\"오늘은\", \"일요일\")"
      ],
      "metadata": {
        "colab": {
          "base_uri": "https://localhost:8080/"
        },
        "id": "25RCIvJofyWh",
        "outputId": "bc99c316-99b6-4a09-b21e-d37821fbbf71"
      },
      "execution_count": 9,
      "outputs": [
        {
          "output_type": "stream",
          "name": "stdout",
          "text": [
            "오늘은 일요일\n"
          ]
        }
      ]
    },
    {
      "cell_type": "code",
      "source": [
        "print(\"naver\", \"kakao\", \"sk\", \"samsung\", sep=';')"
      ],
      "metadata": {
        "colab": {
          "base_uri": "https://localhost:8080/"
        },
        "id": "Ub0PNt7vfyZC",
        "outputId": "c31157cb-256c-419b-a72b-1292cd995528"
      },
      "execution_count": 10,
      "outputs": [
        {
          "output_type": "stream",
          "name": "stdout",
          "text": [
            "naver;kakao;sk;samsung\n"
          ]
        }
      ]
    },
    {
      "cell_type": "code",
      "source": [
        "print(\"first\", end=';');print(\"second\")"
      ],
      "metadata": {
        "colab": {
          "base_uri": "https://localhost:8080/"
        },
        "id": "4TnaxnegfybT",
        "outputId": "c35ffdf5-1071-417b-b066-a680dac99c15"
      },
      "execution_count": 11,
      "outputs": [
        {
          "output_type": "stream",
          "name": "stdout",
          "text": [
            "first;second\n"
          ]
        }
      ]
    },
    {
      "cell_type": "code",
      "source": [
        "print(5/3)"
      ],
      "metadata": {
        "colab": {
          "base_uri": "https://localhost:8080/"
        },
        "id": "qSZhjRfMf-1D",
        "outputId": "cb39624e-ad4e-46d7-c256-b149a78598a2"
      },
      "execution_count": 12,
      "outputs": [
        {
          "output_type": "stream",
          "name": "stdout",
          "text": [
            "1.6666666666666667\n"
          ]
        }
      ]
    }
  ]
}