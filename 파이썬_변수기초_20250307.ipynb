{
  "nbformat": 4,
  "nbformat_minor": 0,
  "metadata": {
    "colab": {
      "provenance": [],
      "authorship_tag": "ABX9TyNjP+UrVJ7KwihfJAm64/h3",
      "include_colab_link": true
    },
    "kernelspec": {
      "name": "python3",
      "display_name": "Python 3"
    },
    "language_info": {
      "name": "python"
    }
  },
  "cells": [
    {
      "cell_type": "markdown",
      "metadata": {
        "id": "view-in-github",
        "colab_type": "text"
      },
      "source": [
        "<a href=\"https://colab.research.google.com/github/kkm1121/ABCD_A/blob/main/%ED%8C%8C%EC%9D%B4%EC%8D%AC_%EB%B3%80%EC%88%98%EA%B8%B0%EC%B4%88_20250307.ipynb\" target=\"_parent\"><img src=\"https://colab.research.google.com/assets/colab-badge.svg\" alt=\"Open In Colab\"/></a>"
      ]
    },
    {
      "cell_type": "code",
      "execution_count": null,
      "metadata": {
        "id": "LPjInbdxEP_M"
      },
      "outputs": [],
      "source": [
        "print(\"변수기초\")"
      ]
    }
  ]
}