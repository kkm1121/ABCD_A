{
  "nbformat": 4,
  "nbformat_minor": 0,
  "metadata": {
    "colab": {
      "provenance": [],
      "authorship_tag": "ABX9TyOkCdTUiY5pui1AcpPLEmCz",
      "include_colab_link": true
    },
    "kernelspec": {
      "name": "python3",
      "display_name": "Python 3"
    },
    "language_info": {
      "name": "python"
    }
  },
  "cells": [
    {
      "cell_type": "markdown",
      "metadata": {
        "id": "view-in-github",
        "colab_type": "text"
      },
      "source": [
        "<a href=\"https://colab.research.google.com/github/kkm1121/ABCD_A/blob/20250311/20250311.ipynb\" target=\"_parent\"><img src=\"https://colab.research.google.com/assets/colab-badge.svg\" alt=\"Open In Colab\"/></a>"
      ]
    },
    {
      "cell_type": "code",
      "execution_count": 1,
      "metadata": {
        "colab": {
          "base_uri": "https://localhost:8080/"
        },
        "id": "LOUbm9sj4Rwt",
        "outputId": "4b149820-237f-499d-82d5-381924ac73ab"
      },
      "outputs": [
        {
          "output_type": "stream",
          "name": "stdout",
          "text": [
            "100000\n"
          ]
        }
      ],
      "source": [
        "watch = 100000\n",
        "print(watch)"
      ]
    },
    {
      "cell_type": "code",
      "source": [
        "a='pig'\n",
        "b='dad'\n",
        "print(a)\n",
        "print(b)\n",
        "print(a+b)\n",
        "print(a+' '+b)"
      ],
      "metadata": {
        "colab": {
          "base_uri": "https://localhost:8080/"
        },
        "id": "_5hi0Kor4Usg",
        "outputId": "8849c8a7-bcff-40a0-8b1d-00a08cf31da1"
      },
      "execution_count": 2,
      "outputs": [
        {
          "output_type": "stream",
          "name": "stdout",
          "text": [
            "pig\n",
            "dad\n",
            "pigdad\n",
            "pig dad\n"
          ]
        }
      ]
    },
    {
      "cell_type": "code",
      "source": [
        "a = 10\n",
        "a,b = (10,20)\n",
        "[a,b] = [10,20]\n",
        "a = b = 10\n",
        "a = None"
      ],
      "metadata": {
        "id": "J5Kpa8jF4cGs"
      },
      "execution_count": 8,
      "outputs": []
    },
    {
      "cell_type": "code",
      "source": [
        "a = 10\n",
        "b = 2000\n",
        "a,b = b,a"
      ],
      "metadata": {
        "id": "lX8ksJ-w4cJh"
      },
      "execution_count": 9,
      "outputs": []
    },
    {
      "cell_type": "code",
      "source": [
        "a = [10, 20, 30]"
      ],
      "metadata": {
        "id": "xex3tfVi4cNO"
      },
      "execution_count": 10,
      "outputs": []
    },
    {
      "cell_type": "code",
      "source": [
        "a = [10, 20, 30]\n",
        "b = a"
      ],
      "metadata": {
        "id": "ELmD8W4Q4gpk"
      },
      "execution_count": 11,
      "outputs": []
    },
    {
      "cell_type": "code",
      "source": [
        "#예제입니다\n",
        "a = [10, 20, 30]\n",
        "b = a\n",
        "a[0] = 200\n",
        "print(b)"
      ],
      "metadata": {
        "id": "IOf-RLZa4gr1"
      },
      "execution_count": null,
      "outputs": []
    },
    {
      "cell_type": "code",
      "source": [
        "print(\"Hello Word\")\n",
        "print(1)\n",
        "a = 1\n",
        "print(a)"
      ],
      "metadata": {
        "id": "H57K6vNR4cTO"
      },
      "execution_count": null,
      "outputs": []
    },
    {
      "cell_type": "code",
      "source": [
        "print(\"a=\"+str(a))\n",
        "print(\"a=\", a)\n",
        "print( \"a={}\".format(a))"
      ],
      "metadata": {
        "id": "l9RyTMZd4mhC"
      },
      "execution_count": null,
      "outputs": []
    },
    {
      "cell_type": "code",
      "source": [
        "a = [10,20,30]\n",
        "b = 1\n",
        "c = 2\n",
        "print(a)\n",
        "print(\"a={}\".format(a))\n",
        "print(\"b={}\".format(b))\n",
        "print(\"a={},b={},c={}\".format(a,b,c))"
      ],
      "metadata": {
        "id": "8fUnx-zR4mlS"
      },
      "execution_count": null,
      "outputs": []
    }
  ]
}